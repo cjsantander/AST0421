{
 "cells": [
  {
   "cell_type": "markdown",
   "metadata": {},
   "source": [
    "# Tarea 1, parte 2\n",
    "\n",
    "De Sirianni et al. (2015), podemos transformar de los filtros F555W y F814 utilizando la siguiente función.\n"
   ]
  },
  {
   "cell_type": "code",
   "execution_count": 1,
   "metadata": {
    "collapsed": false
   },
   "outputs": [],
   "source": [
    "def trans_to_UVBRI(sf555, sf814, f555_zp, f814_zp, f555_av, f814_av):\n",
    "    # Primero le quitamos el zero point\n",
    "    sf555 -= f555_zp\n",
    "    sf814 -= f814_zp\n",
    "    \n",
    "    # Ahora el reddening\n",
    "    sf555 += f555_av\n",
    "    sf814 += f814_av   \n",
    "    \n",
    "    # Coeficientes para transformar de f555 a V.\n",
    "    c0v = [25.250, 25.275]\n",
    "    c1v = [-0.09, -0.124]\n",
    "    c2v = [0.034, 0.018]\n",
    "    \n",
    "    # Coeficientes para transformar de f814 a I.\n",
    "    c0i = [24.837, 24.838]\n",
    "    c1i = [0.060, 0.001]\n",
    "    c2i = [-0.099, 0.013]\n",
    "    \n",
    "    # Para una primera aproximación\n",
    "    mag_v = sf555\n",
    "    mag_i = sf814\n",
    "    \n",
    "    for _ in range(0, 10):\n",
    "        tcol = mag_v - mag_i\n",
    "        # Tomamos los índices según el rango de TCOl.\n",
    "        idv = 0 if tcol < 0.6 else 1\n",
    "        idi = 0 if tcol < 0.1 else 1\n",
    "        \n",
    "        mag_v = sf555 + c0v[idv] + c1v[idv]*tcol + c2v[idv]*(tcol)**2\n",
    "        mag_i = sf814 + c0i[idi] + c1i[idi]*tcol + c2i[idi]*(tcol)**2\n",
    "    # Agregamos el zero point:\n",
    "    mag_v += f555_zp\n",
    "    mag_i += f814_zp\n",
    "    \n",
    "    # Agregamos el reddening:\n",
    "    mag_v += 0.101\n",
    "    mag_i += 0.056\n",
    "    return (mag_v, mag_i)"
   ]
  },
  {
   "cell_type": "markdown",
   "metadata": {},
   "source": [
    "Aplicamos esta transformación a los datos de la parte 1."
   ]
  },
  {
   "cell_type": "code",
   "execution_count": 2,
   "metadata": {
    "collapsed": false
   },
   "outputs": [],
   "source": [
    "from scipy.stats import gaussian_kde\n",
    "import tarea1_parte1\n",
    "import numpy as np\n",
    "\n",
    "\n",
    "Tarea1 = tarea1_parte1.Tarea1Parte1()\n",
    "\n",
    "mag = zip(Tarea1.f555_mag, Tarea1.f814_mag)\n",
    "params = (Tarea1.f555_zp, Tarea1.f814_zp, Tarea1.f555_av, Tarea1.f555_av)\n",
    "mag = list(map(lambda x: trans_to_UVBRI(x[0], x[1], *params), mag))\n",
    "\n",
    "# %matplotlib inline\n",
    "import matplotlib.pyplot as plt\n",
    "\n",
    "axis_x = list(map(lambda x: x[0]-x[1], mag))\n",
    "_, axis_y = zip(*mag)\n",
    "\n",
    "\n",
    "plt.scatter(axis_x, axis_y, marker='o', c='Black', s=1)\n",
    "plt.xlabel('V - I')\n",
    "plt.ylabel('V')\n",
    "plt.tight_layout()\n",
    "axes = plt.gca()\n",
    "axes.invert_yaxis()\n",
    "#axes.set_xlim([0.7, 0.9])\n",
    "#axes.set_ylim([27, 16])\n",
    "plt.show()\n",
    "\n",
    "x = axis_x\n",
    "y = axis_y\n",
    "\n",
    "# Código adaptado del amigo de stackoverflow: \n",
    "# http://stackoverflow.com/questions/20105364/how-can-i-make-a-scatter-plot-colored-by-density-in-matplotlib\n",
    "xy = np.vstack([x,y])\n",
    "z = gaussian_kde(xy)(xy)\n",
    "\n",
    "fig, ax = plt.subplots()\n",
    "ax.scatter(x, y, c=z, s=10, marker='s', edgecolor='')\n",
    "axes = plt.gca()\n",
    "axes.invert_yaxis()\n",
    "plt.show()"
   ]
  },
  {
   "cell_type": "markdown",
   "metadata": {},
   "source": [
    "Buscamos una isócrona para NGC 121, que tiene una edad de [10.5 Gyr](http://iopscience.iop.org/article/10.1088/0004-6256/135/4/1106/pdf):"
   ]
  },
  {
   "cell_type": "code",
   "execution_count": 6,
   "metadata": {
    "collapsed": false
   },
   "outputs": [],
   "source": [
    "from isochrones.dartmouth import Dartmouth_Isochrone\n",
    "import numpy as np\n",
    "isochrone = Dartmouth_Isochrone(['V','I'])\n",
    "age = np.log10(10.5*10**9)\n",
    "distance = 61000\n",
    "a_v = [0.101, 0.056]\n",
    "model = isochrone.isochrone(age)\n",
    "mod = 5*np.log10(distance/10)\n",
    "\n",
    "\n",
    "model_y = model.V_mag + mod + a_v[0] + Tarea1.f555_zp\n",
    "model_x = model.V_mag - model.I_mag + a_v[0] - a_v[1] + Tarea1.f555_zp - + Tarea1.f814_zp\n",
    "\n",
    "\n",
    "plt.plot(model_x, model_y,'r.',alpha=0.5)\n",
    "\n",
    "axes = plt.gca()\n",
    "axes.invert_yaxis()\n",
    "plt.xlabel('V - I')\n",
    "plt.ylabel('V')\n",
    "\n",
    "plt.scatter(x, y, marker='o', c='Black', s=1)\n",
    "plt.show()"
   ]
  },
  {
   "cell_type": "code",
   "execution_count": null,
   "metadata": {
    "collapsed": true
   },
   "outputs": [],
   "source": []
  },
  {
   "cell_type": "code",
   "execution_count": null,
   "metadata": {
    "collapsed": false
   },
   "outputs": [],
   "source": []
  },
  {
   "cell_type": "code",
   "execution_count": null,
   "metadata": {
    "collapsed": true
   },
   "outputs": [],
   "source": []
  },
  {
   "cell_type": "code",
   "execution_count": null,
   "metadata": {
    "collapsed": true
   },
   "outputs": [],
   "source": []
  }
 ],
 "metadata": {
  "anaconda-cloud": {},
  "kernelspec": {
   "display_name": "Python [Root]",
   "language": "python",
   "name": "Python [Root]"
  },
  "language_info": {
   "codemirror_mode": {
    "name": "ipython",
    "version": 3
   },
   "file_extension": ".py",
   "mimetype": "text/x-python",
   "name": "python",
   "nbconvert_exporter": "python",
   "pygments_lexer": "ipython3",
   "version": "3.5.2"
  }
 },
 "nbformat": 4,
 "nbformat_minor": 0
}
