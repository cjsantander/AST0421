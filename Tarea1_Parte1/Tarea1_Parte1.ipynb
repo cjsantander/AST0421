{
 "cells": [
  {
   "cell_type": "markdown",
   "metadata": {},
   "source": [
    "## 1. Propiedades  de [NGC 121](http://ned.ipac.caltech.edu/cgi-bin/objsearch?search_type=Obj_id&objid=3284737&objname=1&img_stamp=YES&hconst=73.0&omegam=0.27&omegav=0.73&corr_z=1)\n",
    "1. Tiene las siguientes coordenadas ecuatoriales (J2000):  ($\\alpha=$00h26m48.25s, $\\delta=$-71d32m08.4s)\n",
    "2. Su distancia es de apróximadamente 0.061 Mpc\n",
    "3. Tiene un [tamaño angular](http://simbad.u-strasbg.fr/simbad/sim-id?Ident=NGC+0121&QueryType=ned) de 3'.8\n",
    "4. Tiene un [índice de metalicidad](https://arxiv.org/pdf/1002.4301v2.pdf) de [Fe/H]=-1.5.\n",
    "5. Para los [filtros B y V](http://simbad.u-strasbg.fr/simbad/sim-id?Ident=NGC+121) tiene las siguientes magnitudes: B=11.2, V=11.24.\n",
    "\n",
    "## 2. Hubble Legacy Archive e images.\n",
    "**ACS** es la sigla **A**dvanced **C**amera for **S**urvey, la cual detecta longitudes de onda desde el ultravioleta lejano hasta el infrarrojo cercano. Este instrumento contiene un trío de cámaras, entre ellas la **HRC** (**H**igh **R**esolution **C**hannel), la cual fue diseñada para obtener imagenes detalladas regiones interiores de de las galaxias, como también de cúmulos (https://www.spacetelescope.org/about/general/instruments/acs/).\n",
    "\n",
    "Los filtros utilizados:\n",
    "1. **F555W:** el más cercano en el sistema Johnson es el filtro V, que corresponde al verde.\n",
    "2. **F814W:** el más cercano en el sistema Johnson es el filtro I, que corresponde al infrarrojo cercano.\n",
    "\n",
    "Cada imagen posee cinco extensiones:\n",
    "1. [**PRIMARY:**](http://www.stsci.edu/hst/acs/documents/handbooks/currentDHB/acs_Ch23.html) es un header global.\n",
    "2. [**SCI:**](http://www.stsci.edu/hst/acs/documents/handbooks/currentDHB/acs_Ch23.html) *science image.* Contiene la información que queremos analizar.   \n",
    "3. [**WHT:**]((http://www.stsci.edu/hst/HST_overview/drizzlepac/documents/handbooks/drizzlepac.pdf)) *weight image.* Contiene el peso cada pixel, que corresponde al inverso de la varianza.\n",
    "4. [**CTX:**](http://www.stsci.edu/hst/HST_overview/drizzlepac/documents/handbooks/drizzlepac.pdf) *context image.* Contiene un mapa de las imagenes y un registro de cuál imagen contribuye a cada pixel.\n",
    "5. [**EXP:**](http://www.stsci.edu/hst/HST_overview/documents/multidrizzle/ch55.html)  Contiene el tiempo de exposición de cada pixel.\n",
    "\n",
    "En esta ocasión nos interesan las extensiones **SCI** y **WHT**:"
   ]
  },
  {
   "cell_type": "code",
   "execution_count": null,
   "metadata": {
    "collapsed": false
   },
   "outputs": [],
   "source": [
    "from astropy.io import fits\n",
    "\n",
    "names = ['f555w_NRI.fits', 'f814w_NRI.fits']  # Nombres de los archivos, por si se necesitan cambiar.\n",
    "for name in names:\n",
    "    hdulist = fits.open(name)\n",
    "    fits.writeto(\"sci_{}\".format(name), hdulist[1].data, hdulist[1].header, clobber=True)\n",
    "    fits.writeto(\"inver_{}\".format(name), hdulist[2].data, hdulist[2].header, clobber=True)\n",
    "    hdulist.close()"
   ]
  },
  {
   "cell_type": "markdown",
   "metadata": {},
   "source": [
    "Ahora que tenemos las imagenes generadas podemos SExtractear. Para ello vamos a configurar nuestro input (configuration.sex):\n",
    "1. [**GAIN:**](http://www.stsci.edu/hst/acs/documents/handbooks/currentDHB/acs_Ch48.html) 2\n",
    "2. **DETECT_TYPE:** CCD\n",
    "3. MAG_ZEROPOINT\n",
    "4. [**PIXEL_SCALE:**](http://www.stsci.edu/hst/acs/documents/handbooks/cycle20/c02_cycle203.html) 0.025\n",
    "5."
   ]
  },
  {
   "cell_type": "markdown",
   "metadata": {},
   "source": [
    "Ahora que tenemos los catálogos, debemos hacer un match:"
   ]
  },
  {
   "cell_type": "code",
   "execution_count": null,
   "metadata": {
    "collapsed": false
   },
   "outputs": [],
   "source": [
    "from astropy.coordinates import SkyCoord\n",
    "from astropy import units as u\n",
    "from astropy.io import ascii\n",
    "import numpy as np\n",
    "\n",
    "names = ['cat_f555.cat', 'cat_f814.cat']  # Nombres de los catálogos\n",
    "skies = []  # Lista de SkyCoord.\n",
    "cats = [] # Lista de catálogos.\n",
    "\n",
    "for name in names:\n",
    "    data = ascii.read(name)\n",
    "    cats.append(data)\n",
    "    skies.append(SkyCoord(ra=data['ALPHA_J2000'], dec=data['DELTA_J2000'], unit='deg'))\n",
    "\n",
    "# Obtenemos los matches. Se busca el más cercano de cada estrella en skies[0] en skies[1].\n",
    "idx, d2d, d3d = SkyCoord.match_to_catalog_sky(skies[0], skies[1])\n",
    "# Creamos una lista de tuplas que relaciona ambos catálogos.\n",
    "matches = list(zip(range(0, len(idx)), idx, d2d))\n",
    "# Quitamos los que están repetidos:\n",
    "temp_matches = []\n",
    "seconds = set()\n",
    "matches.sort(key=lambda x: x[2], reverse=True)\n",
    "for x in matches:\n",
    "    if x[1] not in seconds:\n",
    "        seconds.add(x[1])\n",
    "        temp_matches.append(x)\n",
    "matches = temp_matches\n",
    "\n",
    "#matches = list(filter(lambda x: x[2]==0, matches))\n",
    "\n",
    "# Ahora extraemos de los catálogos.\n",
    "idx1, idx2, d2d = zip(*matches)\n",
    "cats[0] = cats[0][list(idx1)]\n",
    "cats[1] = cats[1][list(idx2)]\n",
    "\n",
    "f555 = list(map(lambda x: -2.5*np.log10(x), cats[0]['FLUX_APER']))\n",
    "f814 = list(map(lambda x: -2.5*np.log10(x), cats[1]['FLUX_APER']))\n",
    "\n",
    "\n",
    "    "
   ]
  },
  {
   "cell_type": "markdown",
   "metadata": {
    "collapsed": true
   },
   "source": [
    "Ahora que hicimos el match, vamos a calibrar las magnitudes en el sistema VEGAMAG (el cual está definido para que tenga magnitud 0 para la estrella Vega, de este modo el punto zero corresponde a la magnitud de Vega):\n",
    "\n",
    "$$\\text{m}_{v} = -2.5\\log_{10}(\\text{f})+\\text{m}_0-\\text{apcor}-\\text{A}_v$$\n",
    "donde:\n",
    "* $\\text{m}_0$ es el *zeropoint*. Éste nos define el 0 de nuestras magnitudes.\n",
    "* $\\text{apcor}$ es la *aperture correction*. Debido a que la apertura no toma toda la luz de la estrella, es necesario agregar esta corrección. En este caso se utilizó la de 0''.15.\n",
    "* $\\text{A}_v$ es el *reddening*. Éste corresponde a la desviación, debida por el polvo interestelar, que sufre la luz, desviando en mayor medida los colores azules.\n",
    "\n",
    "De [**Sirianni et al (2005)**](http://iopscience.iop.org/article/10.1086/444553/pdf) tenemos los siguientes valores para los $\\text{apcor}$ y los $\\text{m}_0$. Los valores de $\\text{A}_v$ son de [**NED**](http://ned.ipac.caltech.edu/cgi-bin/objsearch?search_type=Obj_id&objid=3284737&objname=1&img_stamp=YES&hconst=73.0&omegam=0.27&omegav=0.73&corr_z=1):\n",
    "\n",
    "|   **Filtro**  |$\\text{m}_0$|$\\text{apcor}$|$\\text{A}_v$|\n",
    "|:-------------:|:----------:|:------------:|:----------:|\n",
    "|   **F555W**   |    25.255  |     0.241    |    0.103   |\n",
    "|   **F814W **  |    24.849  |     0.425    |\t 0.056   |\n",
    "\n",
    "Aplicando esto obtenemos el CMD:"
   ]
  },
  {
   "cell_type": "code",
   "execution_count": null,
   "metadata": {
    "collapsed": false
   },
   "outputs": [],
   "source": [
    "#matplotlib inline\n",
    "import matplotlib.pyplot as plt\n",
    "\n",
    "# Corrección para F555w y F814w\n",
    "mag = [f555, f814]\n",
    "m_0 = [25.255, 24.849]\n",
    "apcor = [0.241, 0.425]\n",
    "a_v = [0.103, 0.056]\n",
    "\n",
    "for idx in [0, 1]:\n",
    "    mag[idx] = list(map(lambda x: x+m_0[idx]-apcor[idx]-a_v[idx], mag[idx]))\n",
    "\n",
    "axis_x = list(map(lambda x: x[0]-x[1], zip(mag[0], mag[1])))\n",
    "axis_y = mag[0]\n",
    "\n",
    "plt.scatter(axis_x, axis_y, marker='o', c='Black', s=1)\n",
    "plt.xlabel('F555 - F814')\n",
    "plt.ylabel('F555')\n",
    "plt.gca().invert_yaxis()\n",
    "plt.tight_layout()\n",
    "plt.show()"
   ]
  },
  {
   "cell_type": "code",
   "execution_count": null,
   "metadata": {
    "collapsed": true
   },
   "outputs": [],
   "source": []
  }
 ],
 "metadata": {
  "anaconda-cloud": {},
  "kernelspec": {
   "display_name": "Python [Root]",
   "language": "python",
   "name": "Python [Root]"
  },
  "language_info": {
   "codemirror_mode": {
    "name": "ipython",
    "version": 3
   },
   "file_extension": ".py",
   "mimetype": "text/x-python",
   "name": "python",
   "nbconvert_exporter": "python",
   "pygments_lexer": "ipython3",
   "version": "3.5.2"
  }
 },
 "nbformat": 4,
 "nbformat_minor": 0
}
